{
 "cells": [
  {
   "cell_type": "markdown",
   "metadata": {},
   "source": [
    "# Config"
   ]
  },
  {
   "cell_type": "code",
   "execution_count": null,
   "metadata": {},
   "outputs": [],
   "source": [
    "# Required\n",
    "ENV = \"MiniGrid-Fetch-8x8-N3-v0\"\n",
    "MODEL = \"EXPERIMENTAL\"\n",
    "\n",
    "# Optional\n",
    "SEED = 0\n",
    "SHIFT = 0\n",
    "ARGMAX = False\n",
    "PAUSE = 0.1\n",
    "GIF = None\n",
    "EPS = 1000000\n",
    "MEMORY = False\n",
    "TEXT = False"
   ]
  },
  {
   "cell_type": "markdown",
   "metadata": {},
   "source": [
    "# Visualize"
   ]
  },
  {
   "cell_type": "code",
   "execution_count": null,
   "metadata": {},
   "outputs": [],
   "source": [
    "import argparse\n",
    "import numpy\n",
    "\n",
    "import utils\n",
    "from utils import device\n",
    "\n",
    "# Set seed for all randomness sources\n",
    "\n",
    "utils.seed(SEED)\n",
    "\n",
    "# Set device\n",
    "\n",
    "print(f\"Device: {device}\\n\")\n",
    "\n",
    "# Load environment\n",
    "\n",
    "env = utils.make_env(ENV, SEED, render_mode=\"human\")\n",
    "for _ in range(SHIFT):\n",
    "    env.reset()\n",
    "print(\"Environment loaded\\n\")\n",
    "\n",
    "# Load agent\n",
    "\n",
    "model_dir = utils.get_model_dir(MODEL)\n",
    "agent = utils.Agent(env.observation_space, env.action_space, model_dir,\n",
    "                    argmax=ARGMAX, use_memory=MEMORY, use_text=TEXT)\n",
    "print(\"Agent loaded\\n\")\n",
    "\n",
    "# Run the agent\n",
    "\n",
    "if GIF:\n",
    "    from array2gif import write_gif\n",
    "\n",
    "    frames = []\n",
    "\n",
    "# Create a window to view the environment\n",
    "env.render()\n",
    "\n",
    "for episode in range(EPS):\n",
    "    obs, _ = env.reset()\n",
    "\n",
    "    while True:\n",
    "        env.render()\n",
    "        if GIF:\n",
    "            frames.append(numpy.moveaxis(env.get_frame(), 2, 0))\n",
    "\n",
    "        action = agent.get_action(obs)\n",
    "        obs, reward, terminated, truncated, _ = env.step(action)\n",
    "        done = terminated | truncated\n",
    "        agent.analyze_feedback(reward, done)\n",
    "\n",
    "        if done:\n",
    "            break\n",
    "\n",
    "if GIF:\n",
    "    print(\"Saving gif... \", end=\"\")\n",
    "    write_gif(numpy.array(frames), GIF+\".gif\", fps=1/PAUSE)\n",
    "    print(\"Done.\")\n"
   ]
  }
 ],
 "metadata": {
  "kernelspec": {
   "display_name": "base",
   "language": "python",
   "name": "python3"
  },
  "language_info": {
   "codemirror_mode": {
    "name": "ipython",
    "version": 3
   },
   "file_extension": ".py",
   "mimetype": "text/x-python",
   "name": "python",
   "nbconvert_exporter": "python",
   "pygments_lexer": "ipython3",
   "version": "3.10.8"
  }
 },
 "nbformat": 4,
 "nbformat_minor": 2
}
